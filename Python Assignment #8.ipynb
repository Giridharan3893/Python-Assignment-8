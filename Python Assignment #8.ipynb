{
 "cells": [
  {
   "cell_type": "code",
   "execution_count": 2,
   "id": "63db2a6b",
   "metadata": {},
   "outputs": [
    {
     "name": "stdout",
     "output_type": "stream",
     "text": [
      "The original string is : east or west rcb is best\n",
      "The least frequency character is : a\n"
     ]
    }
   ],
   "source": [
    "##Answer 1:\n",
    "\n",
    "test_str = \"east or west rcb is best\"\n",
    "print (\"The original string is : \" + test_str)\n",
    "all_freq = {}\n",
    "for i in test_str:\n",
    "    if i in all_freq:\n",
    "        all_freq[i] += 1\n",
    "    else:\n",
    "        all_freq[i] = 1\n",
    "res = min(all_freq, key = all_freq.get) \n",
    "print (\"The least frequency character is : \" + str(res))"
   ]
  },
  {
   "cell_type": "code",
   "execution_count": 3,
   "id": "f29693e4",
   "metadata": {},
   "outputs": [
    {
     "name": "stdout",
     "output_type": "stream",
     "text": [
      "The original string is : picture perfect\n",
      "The maximum frequency character is : e\n"
     ]
    }
   ],
   "source": [
    "##Answer 2:\n",
    "\n",
    "test_str = \"picture perfect\"\n",
    "print (\"The original string is : \" + test_str)\n",
    "all_freq = {}\n",
    "for i in test_str:\n",
    "    if i in all_freq:\n",
    "        all_freq[i] += 1\n",
    "    else:\n",
    "        all_freq[i] = 1\n",
    "res = max(all_freq, key = all_freq.get)\n",
    "print (\"The maximum frequency character is : \" + str(res))"
   ]
  },
  {
   "cell_type": "code",
   "execution_count": 1,
   "id": "81fb47e1",
   "metadata": {},
   "outputs": [
    {
     "name": "stdout",
     "output_type": "stream",
     "text": [
      "Enter any string: Giri@dharan\n",
      "The string contains special characters.\n"
     ]
    }
   ],
   "source": [
    "##Answer 3:\n",
    "\n",
    "import re\n",
    "string = input('Enter any string: ')\n",
    "special_char = re.compile('[@_!#$%^&*()<>?/\\|}{~:]')\n",
    "if(special_char.search(string) == None):\n",
    "    print('String does not contain any special characters.')\n",
    "else:\n",
    "    print('The string contains special characters.')"
   ]
  },
  {
   "cell_type": "code",
   "execution_count": 6,
   "id": "d88f36cb",
   "metadata": {},
   "outputs": [
    {
     "name": "stdout",
     "output_type": "stream",
     "text": [
      "0F5d\n",
      "gu1K\n",
      "gSJ9\n",
      "gwGn\n",
      "g49r\n",
      "gq 8\n",
      "gE9V\n",
      "gf:Z\n",
      "gXm2\n",
      "go!y\n",
      "gvU \n",
      "gb6s\n",
      "gDUY\n",
      "gTDq\n",
      "g HF\n",
      "g0xT\n",
      "gRij\n",
      "g;nx\n",
      "g4WF\n",
      "g80h\n",
      "g:?1\n",
      "grUY\n",
      "g,mw\n",
      "g;4E\n",
      "g:9z\n",
      "gR2a\n",
      "gWlY\n",
      "guES\n",
      "gziK\n",
      "gpSZ\n",
      "g8WB\n",
      "gWmL\n",
      "g v!\n",
      "gUrR\n",
      "g6rH\n",
      "gxry\n",
      "g5rp\n",
      "gUrp\n",
      "gTrC\n",
      "gKrI\n",
      "g;rx\n",
      "g1rU\n",
      "gerE\n",
      "gdrm\n",
      "g3rD\n",
      "gcr5\n",
      "gmrD\n",
      "gqrH\n",
      "gFr3\n",
      "gvrB\n",
      "g8r;\n",
      "gzr5\n",
      "ghrK\n",
      "gtrj\n",
      "gtr;\n",
      "gurc\n",
      "gYrd\n",
      "gvry\n",
      "g3r \n",
      "g!rz\n",
      "g,rz\n",
      "gHrh\n",
      "gWrC\n",
      "g:r4\n",
      "gOrG\n",
      "g:rx\n",
      "gDrX\n",
      "gWr;\n",
      "glrj\n",
      "gtrb\n",
      "gsrL\n",
      "g5re\n",
      "gfrF\n",
      "ggrV\n",
      "g7rV\n",
      "gPrr\n",
      "ggrm\n",
      "g1rb\n",
      "gHrE\n",
      "gwrv\n",
      "gZr5\n",
      "gYrD\n",
      "g4rM\n",
      "gsrU\n",
      "gZrk\n",
      "gsrC\n",
      "gmrV\n",
      "g;rx\n",
      "gQrq\n",
      "gBr?\n",
      "g,rx\n",
      "g2ri\n",
      "gAri\n",
      "gWri\n",
      "g7ri\n",
      "gnri\n",
      "g;ri\n",
      "gpri\n",
      "gZri\n",
      "glri\n",
      "gyri\n",
      "gBri\n",
      "giri\n",
      "Target matched after 103 iterations\n"
     ]
    }
   ],
   "source": [
    "##Answer 4:\n",
    "\n",
    "import string\n",
    "import random\n",
    "import time\n",
    "\n",
    "possibleCharacters = string.ascii_lowercase + string.digits + string.ascii_uppercase + ' ., !?;:'\n",
    "t = \"giri\"\n",
    "\n",
    "attemptThis = ''.join(random.choice(possibleCharacters)\n",
    "                                for i in range(len(t)))\n",
    "attemptNext = ''\n",
    "  \n",
    "completed = False\n",
    "iteration = 0\n",
    "  \n",
    "while completed == False:\n",
    "    print(attemptThis)\n",
    "      \n",
    "    attemptNext = ''\n",
    "    completed = True\n",
    "      \n",
    "    for i in range(len(t)):\n",
    "        if attemptThis[i] != t[i]:\n",
    "            completed = False\n",
    "            attemptNext += random.choice(possibleCharacters)\n",
    "        else:\n",
    "            attemptNext += t[i]\n",
    "              \n",
    "    iteration += 1\n",
    "    attemptThis = attemptNext\n",
    "    time.sleep(0.1)\n",
    "  \n",
    "print(\"Target matched after \" +\n",
    "      str(iteration) + \" iterations\")"
   ]
  },
  {
   "cell_type": "code",
   "execution_count": 9,
   "id": "8207445e",
   "metadata": {},
   "outputs": [
    {
     "name": "stdout",
     "output_type": "stream",
     "text": [
      "['quick', 'brown', 'jump', 'over', 'lamp']\n"
     ]
    }
   ],
   "source": [
    "##Answer 5:\n",
    "\n",
    "def string_k(k, str):\n",
    "     \n",
    "    string = []\n",
    "    text = str.split(\" \")\n",
    "     \n",
    "    for x in text:\n",
    "        if len(x) > k:\n",
    "            string.append(x)\n",
    "    return string\n",
    "k = 3\n",
    "str =\"A quick brown fox jump over the lamp\"\n",
    "print(string_k(k, str))"
   ]
  },
  {
   "cell_type": "code",
   "execution_count": 12,
   "id": "9638d2f3",
   "metadata": {},
   "outputs": [
    {
     "name": "stdout",
     "output_type": "stream",
     "text": [
      "The original string is : Tit for Tat\n",
      "The string after removal of i'th character : Ti for Tat\n"
     ]
    }
   ],
   "source": [
    "##Answer 6:\n",
    "\n",
    "test_str = \"Tit for Tat\"\n",
    "print (\"The original string is : \" + test_str)\n",
    "new_str = \"\"\n",
    "  \n",
    "for i in range(len(test_str)):\n",
    "    if i != 2:\n",
    "        new_str = new_str + test_str[i]\n",
    "  \n",
    "print (\"The string after removal of i'th character : \" + new_str)"
   ]
  },
  {
   "cell_type": "code",
   "execution_count": 14,
   "id": "2fc27db8",
   "metadata": {},
   "outputs": [
    {
     "name": "stdout",
     "output_type": "stream",
     "text": [
      "['Tit', 'for', 'Tat']\n",
      "Tit-for-Tat\n"
     ]
    }
   ],
   "source": [
    "##Answer 7:\n",
    "\n",
    "def split_string(string):\n",
    "  \n",
    "    list_string = string.split(' ')\n",
    "      \n",
    "    return list_string\n",
    "  \n",
    "def join_string(list_string):\n",
    "\n",
    "    string = '-'.join(list_string)\n",
    "      \n",
    "    return string\n",
    "  \n",
    "if __name__ == '__main__':\n",
    "    string = 'Tit for Tat'\n",
    "      \n",
    "    list_string = split_string(string)\n",
    "    print(list_string)\n",
    "  \n",
    "    new_string = join_string(list_string)\n",
    "    print(new_string)"
   ]
  },
  {
   "cell_type": "code",
   "execution_count": 15,
   "id": "f560997c",
   "metadata": {},
   "outputs": [
    {
     "name": "stdout",
     "output_type": "stream",
     "text": [
      "Yes\n"
     ]
    }
   ],
   "source": [
    "## Answer 8:\n",
    "\n",
    "def check(string) :\n",
    "    p = set(string)\n",
    "    s = {'0', '1'}\n",
    " \n",
    "    if s == p or p == {'0'} or p == {'1'}:\n",
    "        print(\"Yes\")\n",
    "    else :\n",
    "        print(\"No\")\n",
    "\n",
    "if __name__ == \"__main__\" :\n",
    " \n",
    "    string = \"101010000111\"\n",
    "    check(string)"
   ]
  },
  {
   "cell_type": "code",
   "execution_count": 17,
   "id": "d2cd2609",
   "metadata": {},
   "outputs": [
    {
     "name": "stdout",
     "output_type": "stream",
     "text": [
      "['Taking', 'a']\n"
     ]
    }
   ],
   "source": [
    "## Answer 9:\n",
    "\n",
    "def UncommonWords(A, B):\n",
    "    count = {}\n",
    "    for word in A.split():\n",
    "        count[word] = count.get(word, 0) + 1\n",
    "    for word in B.split():\n",
    "        count[word] = count.get(word, 0) + 1\n",
    "    return [word for word in count if count[word] == 1]\n",
    "\n",
    "A = \"Tit for Tat\"\n",
    "B = \"Taking a Tit for Tat\"\n",
    "\n",
    "print(UncommonWords(A, B))"
   ]
  },
  {
   "cell_type": "code",
   "execution_count": 26,
   "id": "c0afeac3",
   "metadata": {},
   "outputs": [
    {
     "name": "stdout",
     "output_type": "stream",
     "text": [
      "()()()\n"
     ]
    }
   ],
   "source": [
    "## Answer 10:\n",
    "\n",
    "def duplicate_encode(word):\n",
    "    \"\"\"\n",
    "    To replace the duplicate letter with \")\" in a string.\n",
    "    if given letter is unique it replaced with \"(\"\n",
    "    \"\"\"\n",
    "    word_dict = {}   \n",
    "    new_word = \"\" \n",
    "    for i in set(word):   \n",
    "        word_count = word.count(i)\n",
    "        word_dict[i] = word_count  \n",
    "    for i in word:\n",
    "        if word_dict[i] > 1:\n",
    "            new_word += \")\"\n",
    "        else:\n",
    "            new_word += \"(\"\n",
    "    print (new_word)\n",
    "\n",
    "duplicate_encode(\"recede\")"
   ]
  },
  {
   "cell_type": "code",
   "execution_count": null,
   "id": "c4f8a2f9",
   "metadata": {},
   "outputs": [],
   "source": []
  },
  {
   "cell_type": "code",
   "execution_count": null,
   "id": "bc5516b2",
   "metadata": {},
   "outputs": [],
   "source": []
  }
 ],
 "metadata": {
  "kernelspec": {
   "display_name": "Python 3 (ipykernel)",
   "language": "python",
   "name": "python3"
  },
  "language_info": {
   "codemirror_mode": {
    "name": "ipython",
    "version": 3
   },
   "file_extension": ".py",
   "mimetype": "text/x-python",
   "name": "python",
   "nbconvert_exporter": "python",
   "pygments_lexer": "ipython3",
   "version": "3.9.7"
  }
 },
 "nbformat": 4,
 "nbformat_minor": 5
}
